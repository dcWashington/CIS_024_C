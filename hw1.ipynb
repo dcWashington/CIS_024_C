{
 "cells": [
  {
   "cell_type": "markdown",
   "metadata": {},
   "source": [
    "\n",
    "# CIS024C - Fall 2017 - Thursday 5:30-9:25pm \n",
    "## Homework 1\n",
    "\n",
    "Homework 1 covers some of the basics including setup and installation of Github and Anaconda/Jupyter for python development\n",
    "\n",
    "You will need to download this notebook and use this as a starting point for your homework. You will just need to fill in the content of each code-block (cell) and execute. Once you have completed all the exercises, you will need to save and upload this to your github repository under a folder called hw1.\n",
    "\n",
    "Note also the exercises build on top of one another so you might be able to do the next exercise if you have not completed the previous exercise.\n",
    "\n",
    "Post any questions you have on our Slack at **cis-024c1.slack.com**"
   ]
  },
  {
   "cell_type": "markdown",
   "metadata": {},
   "source": [
    "### 1. Install Anaconda/Jupyter Notebook on your computer\n",
    "\n",
    "#### Steps\n",
    "1. Go to https://www.anaconda.com/download and download the appropriate anaconda distribution for your Windows or Mac computer. Make sure to select the version of Anaconda corresponding to Python 2.7\n",
    "2. Install the Anaconda distribution on your computer. \n",
    "3. Open the newly installed Anaconda application.\n",
    "4. Launch Jupyter Notebook from the set of Anaconda applications.\n",
    "5. You should see a page open in your browser. This is where you will enter your Python code.\n",
    "\n",
    "Use the screen-shots here and the lecture slides to help with the installation.\n",
    "\n",
    "* Environment Tools setup: https://drive.google.com/open?id=0B1lcsFkP-bjVUTFFeDZpUkRBVjg\n",
    "* Week 1 Lecture slides:  https://docs.google.com/presentation/d/1X2EUPSro2ljGJ76iMgXOZMGPwGH3xROiAs8jXf58Cyc/edit?usp=sharing\n"
   ]
  },
  {
   "cell_type": "markdown",
   "metadata": {},
   "source": [
    "### 2. Set up Github on your computer\n",
    "\n",
    "Github is the tool that we will be using to upload assignment and project code. \n",
    "\n",
    "#### Steps\n",
    "\n",
    "1. Open your browser and navigate to https://github.com/\n",
    "2. Sign up for a github account. You will need to pick a username, provide your email and a password.\n",
    "3. Github will send you an email that you will need to click to verify your email address.\n",
    "4. Once you have successfully logged in to Github, you will need to create a new repository for your cis024c class. You can call the repository cis024c if you like. This is a sample repository that we created in class on week 1 - https://github.com/dorairajsanjay1/cis024c\n",
    "5. Once the repository is created you should be able to upload your assignments here using the \"Upload files\" button.\n",
    "6. Make sure that you create each homework and project in a directory (or folder) and upload the folder so that the top level of repository is not cluttered.\n",
    "\n",
    "Use the screen-shots here and the lecture slides to help with the installation.\n",
    "\n",
    "* Environment Tools setup: https://drive.google.com/open?id=0B1lcsFkP-bjVUTFFeDZpUkRBVjg\n",
    "* Week 1 Lecture slides:  https://docs.google.com/presentation/d/1X2EUPSro2ljGJ76iMgXOZMGPwGH3xROiAs8jXf58Cyc/edit?usp=sharing\n"
   ]
  },
  {
   "cell_type": "markdown",
   "metadata": {},
   "source": [
    "### 3 Coding Exercises\n",
    "\n",
    "In this section of the homework, you will be doing some simple coding exercise to familiarize yourself with your Python development environment - Jupyter. A development environment is also referred to as an IDE or Integrated Development Environment. \n",
    "\n",
    "Below are some useful commands to know when using Jupyter\n",
    "\n",
    "1. You can add a new cell by clicking on the \"+\" icon on top.\n",
    "2. You can delete a cell by selecting that cell and clicking on the \"scissors\" icon on top.\n",
    "3. You can execute a cell by either pressing shift+enter or selecting the \"play\" button on top.\n",
    "4. You can create a new file in Jupyter via the File menu->New Notebook option. Make sure to select Python 2 when creating your notebook.\n",
    "5. Also, for your code blocks make sure that Code is selected instead of another option like Markdown.\n",
    "6. Use the Enter key to go to the next line in a cell to enter the next statement.\n",
    "7. You can clear results by clicking on the Cell menu item and selecting Current Output->Clear or All Output->Clear depending on whether you are trying to just clear the output for one cell or for all cells.\n",
    "8. In case your program has crashed for some reason (infinite loop, for example), you can restart your Python session by select Kernel in the menu and selecting Restart.\n"
   ]
  },
  {
   "cell_type": "markdown",
   "metadata": {},
   "source": [
    "#### Sample Exercise 1\n",
    "\n",
    "Create two variables x and y. Assign the value of 5 to x and 10 to y. Display the result for x and y"
   ]
  },
  {
   "cell_type": "code",
   "execution_count": 4,
   "metadata": {},
   "outputs": [
    {
     "name": "stdout",
     "output_type": "stream",
     "text": [
      "5 10\n"
     ]
    }
   ],
   "source": [
    "x = 5\n",
    "y = 10\n",
    "print x,y"
   ]
  },
  {
   "cell_type": "markdown",
   "metadata": {},
   "source": [
    "#### Sample Exercise 2\n",
    "\n",
    "Create two variables x and y. Assign an arbitrary value to them. Find the sum of x and y and assign to a new variable z. Display the result for z"
   ]
  },
  {
   "cell_type": "code",
   "execution_count": 2,
   "metadata": {},
   "outputs": [
    {
     "name": "stdout",
     "output_type": "stream",
     "text": [
      "30\n"
     ]
    }
   ],
   "source": [
    "x = 10\n",
    "y = 20\n",
    "z = x + y\n",
    "print z"
   ]
  },
  {
   "cell_type": "markdown",
   "metadata": {},
   "source": [
    "#### Exercise 3.1\n",
    "\n",
    "Create two variables a and b. Assign 5 to a and 6 to b. Display the result of a and b."
   ]
  },
  {
   "cell_type": "code",
   "execution_count": 1,
   "metadata": {
    "collapsed": true
   },
   "outputs": [
    {
     "name": "stdout",
     "output_type": "stream",
     "text": [
      "5 6\n"
     ]
    }
   ],
   "source": [
    "a = 5\n",
    "b = 6\n",
    "print a,b"
   ]
  },
  {
   "cell_type": "markdown",
   "metadata": {},
   "source": [
    "#### Exercise 3.2\n",
    "\n",
    "* Create a string variable called **greeting**. Assign the string \"Hello\" to this variable.\n",
    "* Create another string variable called **person**. Assign the string \"Oscar\" to this variable"
   ]
  },
  {
   "cell_type": "code",
   "execution_count": 3,
   "metadata": {
    "collapsed": true
   },
   "outputs": [
    {
     "name": "stdout",
     "output_type": "stream",
     "text": [
      "Hello Oscar\n"
     ]
    }
   ],
   "source": [
    "greeting = \"Hello\"\n",
    "person = \"Oscar\"\n",
    "print greeting, person"
   ]
  },
  {
   "cell_type": "markdown",
   "metadata": {},
   "source": [
    "#### Exercise 3.3\n",
    "\n",
    "* Create a third variable called **personalGreeting**.\n",
    "* Assign the sum of the two previously created variables **greeting** and **person** to personalGreeting.\n",
    "* Display the result.\n",
    "* Can you clean up the result so it look pretty?"
   ]
  },
  {
   "cell_type": "code",
   "execution_count": 5,
   "metadata": {
    "collapsed": true
   },
   "outputs": [
    {
     "name": "stdout",
     "output_type": "stream",
     "text": [
      "Hello Oscar\n"
     ]
    }
   ],
   "source": [
    "personalGreeting = greeting + \" \" + person\n",
    "print personalGreeting"
   ]
  },
  {
   "cell_type": "markdown",
   "metadata": {},
   "source": [
    "#### Exercise 3.4\n",
    "\n",
    "* Use the **input** utility to ask the user to enter his/her age.\n",
    "\n",
    "Refer to the class slides for a description of how input works."
   ]
  },
  {
   "cell_type": "code",
   "execution_count": 3,
   "metadata": {},
   "outputs": [
    {
     "data": {
      "text/plain": [
       "24"
      ]
     },
     "execution_count": 3,
     "metadata": {},
     "output_type": "execute_result"
    }
   ],
   "source": [
    "int(input('Enter your age: '))"
   ]
  },
  {
   "cell_type": "markdown",
   "metadata": {},
   "source": [
    "#### Exercise 3.5\n",
    "\n",
    "* Use the **input** utility to ask the user to enter his/her age. Assign the response to a variable called **age**"
   ]
  },
  {
   "cell_type": "code",
   "execution_count": 6,
   "metadata": {
    "collapsed": true
   },
   "outputs": [
    {
     "name": "stdout",
     "output_type": "stream",
     "text": [
      "Age 24\n"
     ]
    }
   ],
   "source": [
    "age = int(input('Enter your age: '))\n",
    "print \"Age\",age"
   ]
  },
  {
   "cell_type": "markdown",
   "metadata": {},
   "source": [
    "#### Exercise 3.6\n",
    "\n",
    "* Use the **if** statement to compare the value of **age** with 35. \n"
   ]
  },
  {
   "cell_type": "code",
   "execution_count": 7,
   "metadata": {
    "collapsed": true
   },
   "outputs": [
    {
     "data": {
      "text/plain": [
       "False"
      ]
     },
     "execution_count": 7,
     "metadata": {},
     "output_type": "execute_result"
    }
   ],
   "source": [
    "age >= 35"
   ]
  },
  {
   "cell_type": "markdown",
   "metadata": {},
   "source": [
    "#### Exercise 3.7\n",
    "\n",
    "* Use the **if** statement to compare the value of age with 35\n",
    "* if the value of age is greater than 35, then display the string \"the age if greater than 35\". otherwise, display the string \"the age is not greater than 35\"\n",
    "\n",
    "Refer to class lecture slides on the **if** statement in case it is unclear how to use the if and the else statement."
   ]
  },
  {
   "cell_type": "code",
   "execution_count": 8,
   "metadata": {
    "collapsed": true
   },
   "outputs": [
    {
     "name": "stdout",
     "output_type": "stream",
     "text": [
      "the age if not greater than 35\n"
     ]
    }
   ],
   "source": [
    "if age >= 35:\n",
    "    print \"the age if greater than 35\"\n",
    "else:\n",
    "    print \"the age if not greater than 35\""
   ]
  },
  {
   "cell_type": "markdown",
   "metadata": {},
   "source": [
    "#### Exercise 3.8 - Integers\n",
    "\n",
    "* Create an integer variable **number** and assign the value 10 to this number\n",
    "* Divide the number by 4 using the **/** operator and display the result\n",
    "* Divide the number by 4 usin the **//** operator (integer divide) and display the result\n",
    "* Find the modulus of the number by 4 using the modulus operator **%** and display the result (example: newNumber = number%4)\n",
    "\n",
    "Notice the result and see if you can understand how they are different."
   ]
  },
  {
   "cell_type": "code",
   "execution_count": 9,
   "metadata": {
    "collapsed": true
   },
   "outputs": [
    {
     "name": "stdout",
     "output_type": "stream",
     "text": [
      "2.5\n",
      "2\n"
     ]
    }
   ],
   "source": [
    "x = 10\n",
    "y = 10/4.0\n",
    "print y\n",
    "z = x//4\n",
    "print z"
   ]
  },
  {
   "cell_type": "markdown",
   "metadata": {},
   "source": [
    "#### Exercise 3.9 - Floats\n",
    "\n",
    "* Create a floating variable **number** and assign the value 101.35 to it\n",
    "* Divide the number by 4 using the **/** operator and display the result\n",
    "* Divide the number by 4 usin the **//** operator (integer divide) and display the result\n",
    "* Find the modulus of the number by 4 using the modulus operator **%** and display the result (example: newNumber = number%4)"
   ]
  },
  {
   "cell_type": "code",
   "execution_count": 24,
   "metadata": {
    "collapsed": true
   },
   "outputs": [
    {
     "name": "stdout",
     "output_type": "stream",
     "text": [
      "25.3375\n",
      "25.0\n",
      "1.35\n"
     ]
    }
   ],
   "source": [
    "f = 101.35\n",
    "g = f/4.0\n",
    "print g\n",
    "h = f//4.0\n",
    "print h\n",
    "newNumber = f%4\n",
    "print newNumber"
   ]
  },
  {
   "cell_type": "markdown",
   "metadata": {},
   "source": [
    "#### Exercise 3.10 - Booleans\n",
    "\n",
    "* Create an integer variable called **myAge** and assign the value 21 to it\n",
    "* Create another integer variable called **yourAge** and assign the value 25 to it.\n",
    "* Use the comparison operator \"==\" (double-equals) to compare the two variables. Assign the result of the compare to a new variable called **result**\n",
    "* Display **result**.\n",
    "* Create another integer variable called **hisAge** and assign the value 25 to it.\n",
    "* Use the comparison operator \"==\" (double-equals) to compare the **myAge** with **hisAge**. Assign the result of the compare to **result**\n",
    "* Display **result**\n"
   ]
  },
  {
   "cell_type": "code",
   "execution_count": 1,
   "metadata": {
    "collapsed": true
   },
   "outputs": [
    {
     "name": "stdout",
     "output_type": "stream",
     "text": [
      "False\n"
     ]
    }
   ],
   "source": [
    "myAge = 21\n",
    "yourAge = 25\n",
    "if myAge == yourAge:\n",
    "    print \"True\"\n",
    "else:\n",
    "    print \"False\""
   ]
  },
  {
   "cell_type": "code",
   "execution_count": 2,
   "metadata": {},
   "outputs": [
    {
     "name": "stdout",
     "output_type": "stream",
     "text": [
      "False\n"
     ]
    }
   ],
   "source": [
    "hisAge = 25\n",
    "if myAge == hisAge:\n",
    "    print \"True\"\n",
    "else:\n",
    "    print \"False\""
   ]
  },
  {
   "cell_type": "code",
   "execution_count": null,
   "metadata": {},
   "outputs": [],
   "source": []
  }
 ],
 "metadata": {
  "kernelspec": {
   "display_name": "Python 2",
   "language": "python",
   "name": "python2"
  },
  "language_info": {
   "codemirror_mode": {
    "name": "ipython",
    "version": 2
   },
   "file_extension": ".py",
   "mimetype": "text/x-python",
   "name": "python",
   "nbconvert_exporter": "python",
   "pygments_lexer": "ipython2",
   "version": "2.7.14"
  }
 },
 "nbformat": 4,
 "nbformat_minor": 2
}
