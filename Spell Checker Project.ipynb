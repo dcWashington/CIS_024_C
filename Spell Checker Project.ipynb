{
 "cells": [
  {
   "cell_type": "code",
   "execution_count": 2,
   "metadata": {
    "slideshow": {
     "slide_type": "subslide"
    }
   },
   "outputs": [],
   "source": [
    "# opening file\n",
    "dicFile = open('spell.words.txt', 'r')\n",
    "\n",
    "# getting all lines in file\n",
    "words = dicFile.read()    \n",
    "\n",
    "# spliting the full dictionary into a list\n",
    "wordsList = words.split()     "
   ]
  },
  {
   "cell_type": "code",
   "execution_count": 11,
   "metadata": {},
   "outputs": [
    {
     "name": "stdout",
     "output_type": "stream",
     "text": [
      "Enter a paragraph here to be spell checked:houze of Car2s\n"
     ]
    }
   ],
   "source": [
    "strUserWords = raw_input('Enter a paragraph here to be spell checked:')\n",
    "listUserWords = strUserWords.split()"
   ]
  },
  {
   "cell_type": "code",
   "execution_count": 12,
   "metadata": {
    "slideshow": {
     "slide_type": "slide"
    }
   },
   "outputs": [
    {
     "name": "stdout",
     "output_type": "stream",
     "text": [
      "In your sentence 'houze of Car2s':\n",
      "'houze' was not found\n",
      "Best match is 'house'\n",
      "'car2s' was not found\n",
      "Best match is 'cards'\n"
     ]
    }
   ],
   "source": [
    "print \"In your sentence '%s':\" % strUserWords\n",
    "lowerUserWords = []\n",
    "for el in listUserWords:\n",
    "    lowerUserWords.append(el.lower())\n",
    "\n",
    "for word in lowerUserWords:\n",
    "    if word not in wordsList:\n",
    "        print \"'%s' was not found\" % word\n",
    "        \n",
    "        bestScore = 0\n",
    "        bestWord = 0\n",
    "        for listWord in wordsList:\n",
    "            \n",
    "            if len(listWord) != len(word):\n",
    "                continue\n",
    "                \n",
    "            score = 0\n",
    "            letterPos = 0\n",
    "            for letter in word:\n",
    "            \n",
    "                if letter != listWord[letterPos]:\n",
    "                    score += 1\n",
    "                letterPos += 1\n",
    "                \n",
    "            if bestScore == 0:\n",
    "                bestScore = score\n",
    "                bestWord = listWord\n",
    "            elif score < bestScore:\n",
    "                bestScore = score\n",
    "                bestWord = listWord\n",
    "                \n",
    "        print \"Best match is '%s'\" % bestWord"
   ]
  },
  {
   "cell_type": "code",
   "execution_count": null,
   "metadata": {},
   "outputs": [],
   "source": []
  }
 ],
 "metadata": {
  "kernelspec": {
   "display_name": "Python 2",
   "language": "python",
   "name": "python2"
  },
  "language_info": {
   "codemirror_mode": {
    "name": "ipython",
    "version": 2
   },
   "file_extension": ".py",
   "mimetype": "text/x-python",
   "name": "python",
   "nbconvert_exporter": "python",
   "pygments_lexer": "ipython2",
   "version": "2.7.14"
  }
 },
 "nbformat": 4,
 "nbformat_minor": 2
}
